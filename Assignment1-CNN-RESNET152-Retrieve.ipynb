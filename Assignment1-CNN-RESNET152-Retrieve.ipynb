{
 "cells": [
  {
   "cell_type": "code",
   "execution_count": 10,
   "id": "b1ecad5b",
   "metadata": {},
   "outputs": [],
   "source": [
    "# Retrieve the most similar images by measuring the similarity between features.\n",
    "import numpy as np\n",
    "import os\n",
    "import cv2\n",
    "from sklearn.metrics.pairwise import cosine_similarity\n",
    "from matplotlib import pyplot as plt\n",
    "from utils import distance_similarity"
   ]
  },
  {
   "cell_type": "code",
   "execution_count": 13,
   "id": "5552086c",
   "metadata": {},
   "outputs": [],
   "source": [
    "# Measure the similarity scores between query feature and gallery features.\n",
    "# You could also use other metrics to measure the similarity scores between features.\n",
    "def similarity(query_feat, gallery_feat):\n",
    "    sim = cosine_similarity(query_feat, gallery_feat)\n",
    "    sim = np.squeeze(sim)\n",
    "    return sim\n",
    "\n",
    "def retrival_idx(query_path, gallery_dir):\n",
    "    query_feat = np.load(query_path, allow_pickle=True)\n",
    "    query_feat=query_feat[0]\n",
    "    query_feat=[query_feat[i][0] for i in range(query_feat.size)]\n",
    "    dict = {}\n",
    "    for gallery_file in os.listdir(gallery_dir):\n",
    "        if(gallery_file.endswith(\".DS_Store\")):\n",
    "            continue\n",
    "        gallery_feat = np.load(os.path.join(gallery_dir, gallery_file), allow_pickle=True)\n",
    "        gallery_feat=gallery_feat[0]\n",
    "        gallery_feat=[gallery_feat[i][0] for i in range(gallery_feat.size)]\n",
    "        gallery_idx = gallery_file.split('.')[0] + '.jpg'\n",
    "        # sim = distance_similarity(query_feat, gallery_feat)\n",
    "        sim = similarity(query_feat, gallery_feat)\n",
    "        dict[gallery_idx] = sim\n",
    "    sorted_dict = sorted(dict.items(), key=lambda item: item[1]) # Sort the similarity score\n",
    "    best_ten = sorted_dict[-10:] # Get the best ten retrived images\n",
    "    return best_ten\n",
    "\n",
    "def visulization(retrived, query):\n",
    "    plt.subplot(2, 3, 1)\n",
    "    plt.title(query)\n",
    "    path=query_dir+query\n",
    "    query_img = cv2.imread(path)\n",
    "    img_rgb_rgb = query_img[:,:,::-1]\n",
    "    plt.imshow(img_rgb_rgb)\n",
    "    for i in range(5):\n",
    "        img_path = './datasets_4186/gallery_4186/' + retrived[i][0]\n",
    "        img = cv2.imread(img_path)\n",
    "        img_rgb = img[:,:,::-1]\n",
    "        plt.subplot(2, 3, i+2)\n",
    "        plt.title(retrived[i][1])\n",
    "        plt.imshow(img_rgb)\n",
    "    plt.show()"
   ]
  },
  {
   "cell_type": "code",
   "execution_count": 14,
   "id": "750dcf38",
   "metadata": {},
   "outputs": [
    {
     "name": "stdout",
     "output_type": "stream",
     "text": [
      "1258_feats.npy\n",
      " Best ten:\n"
     ]
    },
    {
     "ename": "ValueError",
     "evalue": "The truth value of an array with more than one element is ambiguous. Use a.any() or a.all()",
     "output_type": "error",
     "traceback": [
      "\u001b[1;31m---------------------------------------------------------------------------\u001b[0m",
      "\u001b[1;31mValueError\u001b[0m                                Traceback (most recent call last)",
      "\u001b[1;32m~\\AppData\\Local\\Temp/ipykernel_7676/2439224755.py\u001b[0m in \u001b[0;36m<module>\u001b[1;34m\u001b[0m\n\u001b[0;32m      6\u001b[0m     \u001b[1;32mif\u001b[0m \u001b[1;33m(\u001b[0m\u001b[0mqueryf_file\u001b[0m\u001b[1;33m.\u001b[0m\u001b[0mendswith\u001b[0m\u001b[1;33m(\u001b[0m\u001b[1;34m\".DS_Store\"\u001b[0m\u001b[1;33m)\u001b[0m\u001b[1;33m)\u001b[0m\u001b[1;33m:\u001b[0m\u001b[1;33m\u001b[0m\u001b[1;33m\u001b[0m\u001b[0m\n\u001b[0;32m      7\u001b[0m         \u001b[1;32mcontinue\u001b[0m\u001b[1;33m\u001b[0m\u001b[1;33m\u001b[0m\u001b[0m\n\u001b[1;32m----> 8\u001b[1;33m     \u001b[0mbest_ten\u001b[0m \u001b[1;33m=\u001b[0m \u001b[0mretrival_idx\u001b[0m\u001b[1;33m(\u001b[0m\u001b[0mos\u001b[0m\u001b[1;33m.\u001b[0m\u001b[0mpath\u001b[0m\u001b[1;33m.\u001b[0m\u001b[0mjoin\u001b[0m\u001b[1;33m(\u001b[0m\u001b[0mqueryf_dir\u001b[0m\u001b[1;33m,\u001b[0m \u001b[0mqueryf_file\u001b[0m\u001b[1;33m)\u001b[0m\u001b[1;33m,\u001b[0m \u001b[0mgallery_dir\u001b[0m\u001b[1;33m)\u001b[0m \u001b[1;31m# retrieve top 10 matching images in the gallery.\u001b[0m\u001b[1;33m\u001b[0m\u001b[1;33m\u001b[0m\u001b[0m\n\u001b[0m\u001b[0;32m      9\u001b[0m     \u001b[1;32mfor\u001b[0m \u001b[0mi\u001b[0m \u001b[1;32min\u001b[0m \u001b[0mbest_ten\u001b[0m\u001b[1;33m:\u001b[0m\u001b[1;33m\u001b[0m\u001b[1;33m\u001b[0m\u001b[0m\n\u001b[0;32m     10\u001b[0m         \u001b[0mprint\u001b[0m\u001b[1;33m(\u001b[0m\u001b[0mi\u001b[0m\u001b[1;33m[\u001b[0m\u001b[1;36m0\u001b[0m\u001b[1;33m]\u001b[0m\u001b[1;33m,\u001b[0m \u001b[0mi\u001b[0m\u001b[1;33m[\u001b[0m\u001b[1;36m1\u001b[0m\u001b[1;33m]\u001b[0m\u001b[1;33m)\u001b[0m\u001b[1;33m\u001b[0m\u001b[1;33m\u001b[0m\u001b[0m\n",
      "\u001b[1;32m~\\AppData\\Local\\Temp/ipykernel_7676/4062744670.py\u001b[0m in \u001b[0;36mretrival_idx\u001b[1;34m(query_path, gallery_dir)\u001b[0m\n\u001b[0;32m     21\u001b[0m         \u001b[0msim\u001b[0m \u001b[1;33m=\u001b[0m \u001b[0msimilarity\u001b[0m\u001b[1;33m(\u001b[0m\u001b[0mquery_feat\u001b[0m\u001b[1;33m,\u001b[0m \u001b[0mgallery_feat\u001b[0m\u001b[1;33m)\u001b[0m\u001b[1;33m\u001b[0m\u001b[1;33m\u001b[0m\u001b[0m\n\u001b[0;32m     22\u001b[0m         \u001b[0mdict\u001b[0m\u001b[1;33m[\u001b[0m\u001b[0mgallery_idx\u001b[0m\u001b[1;33m]\u001b[0m \u001b[1;33m=\u001b[0m \u001b[0msim\u001b[0m\u001b[1;33m\u001b[0m\u001b[1;33m\u001b[0m\u001b[0m\n\u001b[1;32m---> 23\u001b[1;33m     \u001b[0msorted_dict\u001b[0m \u001b[1;33m=\u001b[0m \u001b[0msorted\u001b[0m\u001b[1;33m(\u001b[0m\u001b[0mdict\u001b[0m\u001b[1;33m.\u001b[0m\u001b[0mitems\u001b[0m\u001b[1;33m(\u001b[0m\u001b[1;33m)\u001b[0m\u001b[1;33m,\u001b[0m \u001b[0mkey\u001b[0m\u001b[1;33m=\u001b[0m\u001b[1;32mlambda\u001b[0m \u001b[0mitem\u001b[0m\u001b[1;33m:\u001b[0m \u001b[0mitem\u001b[0m\u001b[1;33m[\u001b[0m\u001b[1;36m1\u001b[0m\u001b[1;33m]\u001b[0m\u001b[1;33m)\u001b[0m \u001b[1;31m# Sort the similarity score\u001b[0m\u001b[1;33m\u001b[0m\u001b[1;33m\u001b[0m\u001b[0m\n\u001b[0m\u001b[0;32m     24\u001b[0m     \u001b[0mbest_ten\u001b[0m \u001b[1;33m=\u001b[0m \u001b[0msorted_dict\u001b[0m\u001b[1;33m[\u001b[0m\u001b[1;33m-\u001b[0m\u001b[1;36m10\u001b[0m\u001b[1;33m:\u001b[0m\u001b[1;33m]\u001b[0m \u001b[1;31m# Get the best ten retrived images\u001b[0m\u001b[1;33m\u001b[0m\u001b[1;33m\u001b[0m\u001b[0m\n\u001b[0;32m     25\u001b[0m     \u001b[1;32mreturn\u001b[0m \u001b[0mbest_ten\u001b[0m\u001b[1;33m\u001b[0m\u001b[1;33m\u001b[0m\u001b[0m\n",
      "\u001b[1;31mValueError\u001b[0m: The truth value of an array with more than one element is ambiguous. Use a.any() or a.all()"
     ]
    }
   ],
   "source": [
    "queryf_dir = './datasets_4186/query_feature/'\n",
    "gallery_dir = './datasets_4186/gallery_feature/'\n",
    "query_dir = './datasets_4186/query_4186/'\n",
    "for queryf_file in os.listdir(queryf_dir):\n",
    "    print(queryf_file+\"\\n Best ten:\")\n",
    "    if (queryf_file.endswith(\".DS_Store\")):\n",
    "        continue\n",
    "    best_ten = retrival_idx(os.path.join(queryf_dir, queryf_file), gallery_dir) # retrieve top 10 matching images in the gallery.\n",
    "    for i in best_ten:\n",
    "        print(i[0], i[1])\n",
    "    best_ten.reverse()\n",
    "    visulization(best_ten, queryf_file.split('_')[0]+'.jpg') # Visualize the retrieval results"
   ]
  },
  {
   "cell_type": "code",
   "execution_count": null,
   "id": "b0235738",
   "metadata": {},
   "outputs": [],
   "source": []
  }
 ],
 "metadata": {
  "kernelspec": {
   "display_name": "Python 3 (ipykernel)",
   "language": "python",
   "name": "python3"
  },
  "language_info": {
   "codemirror_mode": {
    "name": "ipython",
    "version": 3
   },
   "file_extension": ".py",
   "mimetype": "text/x-python",
   "name": "python",
   "nbconvert_exporter": "python",
   "pygments_lexer": "ipython3",
   "version": "3.9.10"
  }
 },
 "nbformat": 4,
 "nbformat_minor": 5
}
