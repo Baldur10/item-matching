{
 "cells": [
  {
   "cell_type": "code",
   "execution_count": null,
   "metadata": {},
   "outputs": [],
   "source": [
    "# Retrieve the most similar images by measuring the similarity between features.\n",
    "import numpy as np\n",
    "import os\n",
    "import cv2\n",
    "from sklearn.metrics.pairwise import cosine_similarity\n",
    "from matplotlib import pyplot as plt"
   ]
  },
  {
   "cell_type": "code",
   "execution_count": null,
   "metadata": {},
   "outputs": [],
   "source": [
    "def similarity(query_feat, gallery_feat):\n",
    "    sim = cosine_similarity(query_feat, gallery_feat)\n",
    "    sim = np.squeeze(sim)\n",
    "    return sim\n",
    "\n",
    "def retrival_idx(query_path, gallery_dir):\n",
    "    query_feat = np.load(query_path)\n",
    "    dict = {}\n",
    "    for gallery_file in os.listdir(gallery_dir):\n",
    "        gallery_feat = np.load(os.path.join(gallery_dir, gallery_file))\n",
    "        gallery_idx = gallery_file.split('.')[0] + '.jpg'\n",
    "        sim = similarity(query_feat, gallery_feat)\n",
    "        dict[gallery_idx] = sim\n",
    "    sorted_dict = sorted(dict.items(), key=lambda item: item[1]) # Sort the similarity score\n",
    "    best_five = sorted_dict[-5:] # Get the best five retrived images\n",
    "    return best_five\n",
    "\n",
    "def visulization(retrived, query):\n",
    "    plt.subplot(2, 3, 1)\n",
    "    plt.title('query')\n",
    "    query_img = cv2.imread(query)\n",
    "    img_rgb_rgb = query_img[:,:,::-1]\n",
    "    plt.imshow(img_rgb_rgb)\n",
    "    for i in range(5):\n",
    "        img_path = './data/gallery/' + retrived[i][0]\n",
    "        img = cv2.imread(img_path)\n",
    "        img_rgb = img[:,:,::-1]\n",
    "        plt.subplot(2, 3, i+2)\n",
    "        plt.title(retrived[i][1])\n",
    "        plt.imshow(img_rgb)\n",
    "    plt.show()\n",
    "\n",
    "if __name__ == '__main__':\n",
    "    query_path = './data/query_feat/query_feats.npy'\n",
    "    gallery_dir = './data/gallery_feature/'\n",
    "    best_five = retrival_idx(query_path, gallery_dir) # retrieve top 5 matching images in the gallery.\n",
    "    print(best_five)\n",
    "    best_five.reverse()\n",
    "    query_path = './data/query/query.jpg'\n",
    "    visulization(best_five, query_path) # Visualize the retrieval results\n",
    "\n"
   ]
  }
 ],
 "metadata": {
  "language_info": {
   "name": "python"
  },
  "orig_nbformat": 4
 },
 "nbformat": 4,
 "nbformat_minor": 2
}
